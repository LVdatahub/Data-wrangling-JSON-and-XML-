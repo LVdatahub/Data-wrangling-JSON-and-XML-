{
 "cells": [
  {
   "cell_type": "markdown",
   "metadata": {},
   "source": [
    "# XML example and exercise\n",
    "****\n",
    "+ study examples of accessing nodes in XML tree structure  \n",
    "+ work on exercise to be completed and submitted\n",
    "****\n",
    "+ reference: https://docs.python.org/2.7/library/xml.etree.elementtree.html\n",
    "+ data source: http://www.dbis.informatik.uni-goettingen.de/Mondial\n",
    "****"
   ]
  },
  {
   "cell_type": "code",
   "execution_count": 44,
   "metadata": {
    "collapsed": true
   },
   "outputs": [],
   "source": [
    "from xml.etree import ElementTree as ET"
   ]
  },
  {
   "cell_type": "markdown",
   "metadata": {},
   "source": [
    "## XML example\n",
    "\n",
    "+ for details about tree traversal and iterators, see https://docs.python.org/2.7/library/xml.etree.elementtree.html"
   ]
  },
  {
   "cell_type": "code",
   "execution_count": 45,
   "metadata": {
    "collapsed": false
   },
   "outputs": [],
   "source": [
    "document_tree = ET.parse( './data/mondial_database_less.xml' )"
   ]
  },
  {
   "cell_type": "code",
   "execution_count": 46,
   "metadata": {
    "collapsed": false
   },
   "outputs": [
    {
     "name": "stdout",
     "output_type": "stream",
     "text": [
      "Albania\n",
      "Greece\n",
      "Macedonia\n",
      "Serbia\n",
      "Montenegro\n",
      "Kosovo\n",
      "Andorra\n"
     ]
    }
   ],
   "source": [
    "# print names of all countries\n",
    "root = document_tree.getroot()\n",
    "for child in root:\n",
    "    name = child.find('name').text\n",
    "    print (name)"
   ]
  },
  {
   "cell_type": "code",
   "execution_count": 47,
   "metadata": {
    "collapsed": false
   },
   "outputs": [
    {
     "name": "stdout",
     "output_type": "stream",
     "text": [
      "* Albania:\n",
      "Tirana, Shkodër, Durrës, Vlorë, Elbasan, Korçë\n",
      "* Greece:\n",
      "Komotini, Kavala, Athina, Peiraias, Peristeri, Acharnes, Patra, Kozani, Kerkyra, Ioannina, Thessaloniki, Iraklio, Chania, Ermoupoli, Rhodes, Tripoli, Lamia, Chalkida, Larissa, Volos, Mytilini, Karyes\n",
      "* Macedonia:\n",
      "Skopje, Kumanovo\n",
      "* Serbia:\n",
      "Beograd, Novi Sad, Niš\n",
      "* Montenegro:\n",
      "Podgorica\n",
      "* Kosovo:\n",
      "Prishtine\n",
      "* Andorra:\n",
      "Andorra la Vella\n"
     ]
    }
   ],
   "source": [
    "# print names of all countries and their cities\n",
    "for element in document_tree.iterfind('country'):\n",
    "    print ('* ' + element.find('name').text + ':'),\n",
    "    capitals_string = ''\n",
    "    for subelement in element.getiterator('city'):\n",
    "        capitals_string += subelement.find('name').text + ', '\n",
    "    print (capitals_string[:-2])"
   ]
  },
  {
   "cell_type": "markdown",
   "metadata": {},
   "source": [
    "****\n",
    "## XML exercise\n",
    "\n",
    "Using data in 'data/mondial_database.xml', the examples above, and refering to https://docs.python.org/2.7/library/xml.etree.elementtree.html, find\n",
    "\n",
    "1. 10 countries with the lowest infant mortality rates\n",
    "2. 10 cities with the largest population\n",
    "3. 10 ethnic groups with the largest overall populations (sum of best/latest estimates over all countries)\n",
    "4. name and country of a) longest river, b) largest lake and c) airport at highest elevation"
   ]
  },
  {
   "cell_type": "markdown",
   "metadata": {
    "collapsed": false
   },
   "source": [
    "### Exercise 1: 10 countries with lowest infant mortality rates"
   ]
  },
  {
   "cell_type": "code",
   "execution_count": 48,
   "metadata": {
    "collapsed": false
   },
   "outputs": [],
   "source": [
    "document = ET.parse( './data/mondial_database.xml' )"
   ]
  },
  {
   "cell_type": "code",
   "execution_count": 49,
   "metadata": {
    "collapsed": false
   },
   "outputs": [],
   "source": [
    "import numpy as np\n",
    "import pandas as pd"
   ]
  },
  {
   "cell_type": "code",
   "execution_count": 90,
   "metadata": {
    "collapsed": false
   },
   "outputs": [
    {
     "data": {
      "text/html": [
       "<div>\n",
       "<table border=\"1\" class=\"dataframe\">\n",
       "  <thead>\n",
       "    <tr style=\"text-align: right;\">\n",
       "      <th></th>\n",
       "      <th>infant mortality</th>\n",
       "    </tr>\n",
       "  </thead>\n",
       "  <tbody>\n",
       "    <tr>\n",
       "      <th>Monaco</th>\n",
       "      <td>1.81</td>\n",
       "    </tr>\n",
       "    <tr>\n",
       "      <th>Japan</th>\n",
       "      <td>2.13</td>\n",
       "    </tr>\n",
       "    <tr>\n",
       "      <th>Norway</th>\n",
       "      <td>2.48</td>\n",
       "    </tr>\n",
       "    <tr>\n",
       "      <th>Bermuda</th>\n",
       "      <td>2.48</td>\n",
       "    </tr>\n",
       "    <tr>\n",
       "      <th>Singapore</th>\n",
       "      <td>2.53</td>\n",
       "    </tr>\n",
       "    <tr>\n",
       "      <th>Sweden</th>\n",
       "      <td>2.60</td>\n",
       "    </tr>\n",
       "    <tr>\n",
       "      <th>Czech Republic</th>\n",
       "      <td>2.63</td>\n",
       "    </tr>\n",
       "    <tr>\n",
       "      <th>Hong Kong</th>\n",
       "      <td>2.73</td>\n",
       "    </tr>\n",
       "    <tr>\n",
       "      <th>Macao</th>\n",
       "      <td>3.13</td>\n",
       "    </tr>\n",
       "    <tr>\n",
       "      <th>Iceland</th>\n",
       "      <td>3.15</td>\n",
       "    </tr>\n",
       "  </tbody>\n",
       "</table>\n",
       "</div>"
      ],
      "text/plain": [
       "                infant mortality\n",
       "Monaco                      1.81\n",
       "Japan                       2.13\n",
       "Norway                      2.48\n",
       "Bermuda                     2.48\n",
       "Singapore                   2.53\n",
       "Sweden                      2.60\n",
       "Czech Republic              2.63\n",
       "Hong Kong                   2.73\n",
       "Macao                       3.13\n",
       "Iceland                     3.15"
      ]
     },
     "execution_count": 90,
     "metadata": {},
     "output_type": "execute_result"
    }
   ],
   "source": [
    "#extracting xml data into dictionary, constructing a dataframe out of the dictionary and sorting by infant mortality\n",
    "underlying_dict = {}\n",
    "for country in document.iterfind('country'):\n",
    "    name = country.find('name').text\n",
    "    infant_mortality = country.find('infant_mortality')\n",
    "    if infant_mortality is not None: \n",
    "        underlying_dict[name]=float(infant_mortality.text)\n",
    "        \n",
    "df = pd.DataFrame.from_dict(underlying_dict, orient = 'index')\n",
    "df.columns=['infant mortality']\n",
    "df.sort_values('infant mortality').head(10)"
   ]
  },
  {
   "cell_type": "markdown",
   "metadata": {},
   "source": [
    "### Exercise 2: 10 cities with the largest population"
   ]
  },
  {
   "cell_type": "code",
   "execution_count": 94,
   "metadata": {
    "collapsed": false
   },
   "outputs": [
    {
     "data": {
      "text/html": [
       "<div>\n",
       "<table border=\"1\" class=\"dataframe\">\n",
       "  <thead>\n",
       "    <tr style=\"text-align: right;\">\n",
       "      <th></th>\n",
       "      <th>city</th>\n",
       "      <th>country</th>\n",
       "      <th>population</th>\n",
       "      <th>year</th>\n",
       "    </tr>\n",
       "  </thead>\n",
       "  <tbody>\n",
       "    <tr>\n",
       "      <th>0</th>\n",
       "      <td>Shanghai</td>\n",
       "      <td>China</td>\n",
       "      <td>22315474</td>\n",
       "      <td>2010</td>\n",
       "    </tr>\n",
       "    <tr>\n",
       "      <th>1</th>\n",
       "      <td>Istanbul</td>\n",
       "      <td>Turkey</td>\n",
       "      <td>13710512</td>\n",
       "      <td>2012</td>\n",
       "    </tr>\n",
       "    <tr>\n",
       "      <th>2</th>\n",
       "      <td>Delhi</td>\n",
       "      <td>India</td>\n",
       "      <td>12877470</td>\n",
       "      <td>2001</td>\n",
       "    </tr>\n",
       "    <tr>\n",
       "      <th>3</th>\n",
       "      <td>Mumbai</td>\n",
       "      <td>India</td>\n",
       "      <td>12442373</td>\n",
       "      <td>2011</td>\n",
       "    </tr>\n",
       "    <tr>\n",
       "      <th>4</th>\n",
       "      <td>Moskva</td>\n",
       "      <td>Russia</td>\n",
       "      <td>11979529</td>\n",
       "      <td>2013</td>\n",
       "    </tr>\n",
       "    <tr>\n",
       "      <th>5</th>\n",
       "      <td>Beijing</td>\n",
       "      <td>China</td>\n",
       "      <td>11716620</td>\n",
       "      <td>2010</td>\n",
       "    </tr>\n",
       "    <tr>\n",
       "      <th>6</th>\n",
       "      <td>São Paulo</td>\n",
       "      <td>Brazil</td>\n",
       "      <td>11152344</td>\n",
       "      <td>2010</td>\n",
       "    </tr>\n",
       "    <tr>\n",
       "      <th>7</th>\n",
       "      <td>Tianjin</td>\n",
       "      <td>China</td>\n",
       "      <td>11090314</td>\n",
       "      <td>2010</td>\n",
       "    </tr>\n",
       "    <tr>\n",
       "      <th>8</th>\n",
       "      <td>Guangzhou</td>\n",
       "      <td>China</td>\n",
       "      <td>11071424</td>\n",
       "      <td>2010</td>\n",
       "    </tr>\n",
       "    <tr>\n",
       "      <th>9</th>\n",
       "      <td>Shenzhen</td>\n",
       "      <td>China</td>\n",
       "      <td>10358381</td>\n",
       "      <td>2010</td>\n",
       "    </tr>\n",
       "  </tbody>\n",
       "</table>\n",
       "</div>"
      ],
      "text/plain": [
       "        city country  population  year\n",
       "0   Shanghai   China    22315474  2010\n",
       "1   Istanbul  Turkey    13710512  2012\n",
       "2      Delhi   India    12877470  2001\n",
       "3     Mumbai   India    12442373  2011\n",
       "4     Moskva  Russia    11979529  2013\n",
       "5    Beijing   China    11716620  2010\n",
       "6  São Paulo  Brazil    11152344  2010\n",
       "7    Tianjin   China    11090314  2010\n",
       "8  Guangzhou   China    11071424  2010\n",
       "9   Shenzhen   China    10358381  2010"
      ]
     },
     "execution_count": 94,
     "metadata": {},
     "output_type": "execute_result"
    }
   ],
   "source": [
    "#constructing an empty dataframe for the required variables\n",
    "population_df = pd.DataFrame(columns = ['country','city','population', 'year'])\n",
    "\n",
    "#building four separate lists for countries, cities, population, and census year to populate our dataframe\n",
    "countries = []\n",
    "cities = []\n",
    "populations = []\n",
    "years = []\n",
    "\n",
    "for country in document.iterfind('country'):\n",
    "    country_name = country.find('name').text\n",
    "    for city in country.iter('city'):\n",
    "        city_name = city.find('name').text\n",
    "        for population in city.iterfind('population'):\n",
    "            population_var = int(population.text)\n",
    "            year = population.attrib['year']\n",
    "            countries.append(country_name)\n",
    "            cities.append(city_name)\n",
    "            populations.append(population_var)\n",
    "            years.append(year)\n",
    "\n",
    "population_df = pd.DataFrame({\n",
    "        'country': countries,\n",
    "        'city': cities,\n",
    "        'population': populations,\n",
    "        'year': years\n",
    "    })\n",
    "\n",
    "#multiple cities have multiple census years/population counts. Constructing a function to extract only the highest population count for each city\n",
    "def my_agg(group_df):\n",
    "    max_population = group_df.population.max()\n",
    "    return group_df[group_df['population'] == max_population]\n",
    "\n",
    "#extracting final results: 10 largest cities by population count with the highest count (year of the count specified) \n",
    "population_gb = population_df.groupby(['city']).apply(my_agg)\n",
    "population_gb.sort_values('population', ascending = False).head(10).reset_index(drop = True)"
   ]
  },
  {
   "cell_type": "markdown",
   "metadata": {
    "collapsed": true
   },
   "source": [
    "### Exercise 3: 10 largest ethnic groups by population across all countries"
   ]
  },
  {
   "cell_type": "code",
   "execution_count": 95,
   "metadata": {
    "collapsed": false
   },
   "outputs": [
    {
     "data": {
      "text/html": [
       "<div>\n",
       "<table border=\"1\" class=\"dataframe\">\n",
       "  <thead>\n",
       "    <tr style=\"text-align: right;\">\n",
       "      <th></th>\n",
       "      <th>ethnic population count</th>\n",
       "    </tr>\n",
       "    <tr>\n",
       "      <th>ethnic group</th>\n",
       "      <th></th>\n",
       "    </tr>\n",
       "  </thead>\n",
       "  <tbody>\n",
       "    <tr>\n",
       "      <th>Han Chinese</th>\n",
       "      <td>1.245059e+09</td>\n",
       "    </tr>\n",
       "    <tr>\n",
       "      <th>Indo-Aryan</th>\n",
       "      <td>8.718156e+08</td>\n",
       "    </tr>\n",
       "    <tr>\n",
       "      <th>European</th>\n",
       "      <td>4.948722e+08</td>\n",
       "    </tr>\n",
       "    <tr>\n",
       "      <th>African</th>\n",
       "      <td>3.183251e+08</td>\n",
       "    </tr>\n",
       "    <tr>\n",
       "      <th>Dravidian</th>\n",
       "      <td>3.027137e+08</td>\n",
       "    </tr>\n",
       "    <tr>\n",
       "      <th>Mestizo</th>\n",
       "      <td>1.577344e+08</td>\n",
       "    </tr>\n",
       "    <tr>\n",
       "      <th>Bengali</th>\n",
       "      <td>1.467769e+08</td>\n",
       "    </tr>\n",
       "    <tr>\n",
       "      <th>Russian</th>\n",
       "      <td>1.318570e+08</td>\n",
       "    </tr>\n",
       "    <tr>\n",
       "      <th>Japanese</th>\n",
       "      <td>1.265342e+08</td>\n",
       "    </tr>\n",
       "    <tr>\n",
       "      <th>Malay</th>\n",
       "      <td>1.219936e+08</td>\n",
       "    </tr>\n",
       "  </tbody>\n",
       "</table>\n",
       "</div>"
      ],
      "text/plain": [
       "              ethnic population count\n",
       "ethnic group                         \n",
       "Han Chinese              1.245059e+09\n",
       "Indo-Aryan               8.718156e+08\n",
       "European                 4.948722e+08\n",
       "African                  3.183251e+08\n",
       "Dravidian                3.027137e+08\n",
       "Mestizo                  1.577344e+08\n",
       "Bengali                  1.467769e+08\n",
       "Russian                  1.318570e+08\n",
       "Japanese                 1.265342e+08\n",
       "Malay                    1.219936e+08"
      ]
     },
     "execution_count": 95,
     "metadata": {},
     "output_type": "execute_result"
    }
   ],
   "source": [
    "#constructing empty dataframe to hold results + extracting xml data into lists to populate the dataframe\n",
    "ethnicgroup_df = pd.DataFrame(columns = ['country','population', 'year', 'ethnic group', 'percentage'])\n",
    "countries_eg = []\n",
    "population_eg = []\n",
    "years_eg = []\n",
    "ethnic_groups = []\n",
    "percentage_eg = []\n",
    "\n",
    "for country in document.iterfind('country'):\n",
    "    country_name_eg = country.find('name').text\n",
    "    for ethnic_group in country.iter('ethnicgroup'):\n",
    "        ethnicgroup_name = ethnic_group.text\n",
    "        ethnicgroup_percent = float(ethnic_group.attrib['percentage'])\n",
    "        for population in country.iterfind('population'):\n",
    "            population_num = int(population.text)\n",
    "            year_num = int(population.attrib['year'])            \n",
    "            \n",
    "            countries_eg.append(country_name_eg)\n",
    "            population_eg.append(population_num)\n",
    "            years_eg.append(year_num)\n",
    "            ethnic_groups.append(ethnicgroup_name)\n",
    "            percentage_eg.append(ethnicgroup_percent)\n",
    "            \n",
    "ethnicgroup_df = pd.DataFrame ({\n",
    "        'country':countries_eg,\n",
    "        'population':population_eg,\n",
    "        'year': years_eg,\n",
    "        'ethnic group': ethnic_groups,\n",
    "        'percentage': percentage_eg\n",
    "    })\n",
    "\n",
    "#population for each ethnic group is not given. We need to calculate it using the percentage for the ethnic group provided for each country\n",
    "ethnicgroup_df['ethnic population count'] = (ethnicgroup_df.population * ethnicgroup_df.percentage)/100\n",
    "ethnicgroup_df = ethnicgroup_df.round({'ethnic population count':0})\n",
    "del ethnicgroup_df['population']\n",
    "del ethnicgroup_df['percentage']\n",
    "\n",
    "#defining function similar to the one in #2. This time we want to extract the latest census year for each population count\n",
    "def my_agg(group_df):\n",
    "     max_year = group_df.year.max()\n",
    "     return group_df[group_df['year'] == max_year]\n",
    "\n",
    "#grouping ethnic groups by country while applying the function to get latest population count for each ethnic group\n",
    "ethnicgroup_gb = ethnicgroup_df.groupby(['country']).apply(my_agg)\n",
    "del ethnicgroup_gb['year']\n",
    "\n",
    "#summing up population count for each ethnic group and sorting in descending order\n",
    "ethnicgroup_gb.groupby('ethnic group').sum().sort_values(['ethnic population count'], ascending = False).head(10)"
   ]
  },
  {
   "cell_type": "markdown",
   "metadata": {
    "collapsed": false
   },
   "source": [
    "### 4. name and country of a) longest river, b) largest lake and c) airport at highest elevation"
   ]
  },
  {
   "cell_type": "markdown",
   "metadata": {},
   "source": [
    "#### a)"
   ]
  },
  {
   "cell_type": "code",
   "execution_count": 98,
   "metadata": {
    "collapsed": false
   },
   "outputs": [
    {
     "data": {
      "text/html": [
       "<div>\n",
       "<table border=\"1\" class=\"dataframe\">\n",
       "  <thead>\n",
       "    <tr style=\"text-align: right;\">\n",
       "      <th></th>\n",
       "      <th>country</th>\n",
       "      <th>river name</th>\n",
       "      <th>length</th>\n",
       "    </tr>\n",
       "  </thead>\n",
       "  <tbody>\n",
       "    <tr>\n",
       "      <th>168</th>\n",
       "      <td>Colombia</td>\n",
       "      <td>Amazonas</td>\n",
       "      <td>6448.0</td>\n",
       "    </tr>\n",
       "  </tbody>\n",
       "</table>\n",
       "</div>"
      ],
      "text/plain": [
       "      country river name  length\n",
       "168  Colombia   Amazonas  6448.0"
      ]
     },
     "execution_count": 98,
     "metadata": {},
     "output_type": "execute_result"
    }
   ],
   "source": [
    "#building a dataframe of country codes and corresponding country names\n",
    "countries = []\n",
    "codes = []\n",
    "\n",
    "for country in document.iterfind('country'):\n",
    "    country_name = country.find('name').text\n",
    "    country_code = country.attrib['car_code']\n",
    "    \n",
    "    countries.append(country_name)\n",
    "    codes.append(country_code)\n",
    "    \n",
    "country_code_df = pd.DataFrame(columns = ['country','code'])\n",
    "country_code_df = pd.DataFrame({\n",
    "                    'country': countries,\n",
    "                    'code': codes\n",
    "    })  \n",
    "\n",
    "#constructing a dataframe of rivers, their lengths, and associated country codes\n",
    "rivers = []\n",
    "length_river = []\n",
    "rivers_country_code = []\n",
    "\n",
    "for river in document.iterfind('river'):\n",
    "    river_name = river.find('name').text\n",
    "    \n",
    "#some rivers are located in more than one country. <located> sub-element, if available, will thus provide the first country in which the river is located.   \n",
    "    if river.find('located') is not None:\n",
    "        river_cc = river.find('located').attrib['country']\n",
    "    else:\n",
    "        river_cc = river.attrib['country']\n",
    "        \n",
    "    len_var = river.find('length')\n",
    "    if len_var is not None:\n",
    "        len_num = float(len_var.text)\n",
    "    \n",
    "    rivers.append(river_name)\n",
    "    length_river.append(len_num)\n",
    "    rivers_country_code.append(river_cc)\n",
    "    \n",
    "rivers_df = pd.DataFrame(columns = ['river name', 'length', 'code'])\n",
    "rivers_df = pd.DataFrame({\n",
    "        'river name': rivers,\n",
    "        'length': length_river,\n",
    "        'code': rivers_country_code        \n",
    "    })\n",
    "\n",
    "#merging country code dataframe and rivers dataframe to get the full name of each country for a given river\n",
    "final_river_df = country_code_df.merge(rivers_df)\n",
    "\n",
    "#determining the longest river and outputting results\n",
    "max_length = max(final_river_df['length'])\n",
    "final_river_df = final_river_df[['country', 'river name', 'length']]\n",
    "final_river_df[final_river_df.length == max_length]"
   ]
  },
  {
   "cell_type": "code",
   "execution_count": 99,
   "metadata": {
    "collapsed": false
   },
   "outputs": [
    {
     "data": {
      "text/html": [
       "<div>\n",
       "<table border=\"1\" class=\"dataframe\">\n",
       "  <thead>\n",
       "    <tr style=\"text-align: right;\">\n",
       "      <th></th>\n",
       "      <th>country</th>\n",
       "      <th>lake name</th>\n",
       "      <th>area</th>\n",
       "    </tr>\n",
       "  </thead>\n",
       "  <tbody>\n",
       "    <tr>\n",
       "      <th>31</th>\n",
       "      <td>Russia</td>\n",
       "      <td>Caspian Sea</td>\n",
       "      <td>386400.0</td>\n",
       "    </tr>\n",
       "  </tbody>\n",
       "</table>\n",
       "</div>"
      ],
      "text/plain": [
       "   country    lake name      area\n",
       "31  Russia  Caspian Sea  386400.0"
      ]
     },
     "execution_count": 99,
     "metadata": {},
     "output_type": "execute_result"
    }
   ],
   "source": [
    "#building a dataframe of lakes, their areas, and corresponding country codes\n",
    "lakes = []\n",
    "area_lakes = []\n",
    "lakes_country_code = []\n",
    "\n",
    "for lake in document.iterfind('lake'):\n",
    "    lake_name = lake.find('name').text\n",
    "    \n",
    "#some lakes are located in more than one country. Similarly to the rivers dataframe above, we are using the <located> sub-element to get the first country on the list\n",
    "    if lake.find('located') is not None:\n",
    "        lake_cc = lake.find('located').attrib['country']\n",
    "    else:\n",
    "        lake_cc = lake.attrib['country']\n",
    "    \n",
    "    area_var = lake.find('area')\n",
    "    if area_var is not None:\n",
    "        area_num = float(area_var.text)\n",
    "    \n",
    "    lakes.append(lake_name)\n",
    "    area_lakes.append(area_num)\n",
    "    lakes_country_code.append(lake_cc)\n",
    "    \n",
    "lakes_df = pd.DataFrame(columns = ['lake name', 'area', 'code'])\n",
    "lakes_df = pd.DataFrame({\n",
    "        'lake name': lakes,\n",
    "        'area': area_lakes,\n",
    "        'code': lakes_country_code        \n",
    "    })\n",
    "\n",
    "#merging lakes dataframe with the country code dataframe to get lakes and their full country names\n",
    "final_lakes_df = country_code_df.merge(lakes_df)\n",
    "\n",
    "#identifying largest river\n",
    "max_area = max(final_lakes_df.area)\n",
    "final_lakes_df = final_lakes_df[['country', 'lake name', 'area']]\n",
    "final_lakes_df[final_lakes_df.area == max_area]"
   ]
  },
  {
   "cell_type": "code",
   "execution_count": 100,
   "metadata": {
    "collapsed": false
   },
   "outputs": [
    {
     "data": {
      "text/html": [
       "<div>\n",
       "<table border=\"1\" class=\"dataframe\">\n",
       "  <thead>\n",
       "    <tr style=\"text-align: right;\">\n",
       "      <th></th>\n",
       "      <th>country</th>\n",
       "      <th>airport name</th>\n",
       "      <th>elevation</th>\n",
       "    </tr>\n",
       "  </thead>\n",
       "  <tbody>\n",
       "    <tr>\n",
       "      <th>1085</th>\n",
       "      <td>Bolivia</td>\n",
       "      <td>El Alto Intl</td>\n",
       "      <td>4063.0</td>\n",
       "    </tr>\n",
       "  </tbody>\n",
       "</table>\n",
       "</div>"
      ],
      "text/plain": [
       "      country  airport name  elevation\n",
       "1085  Bolivia  El Alto Intl     4063.0"
      ]
     },
     "execution_count": 100,
     "metadata": {},
     "output_type": "execute_result"
    }
   ],
   "source": [
    "#building a dataframe of airports, their elevations, and corresponding country codes. Similarly to a) and b) merging the dataframe with country code dataframe to get full country names\n",
    "airports = []\n",
    "airport_elevation = []\n",
    "airport_country_code = []\n",
    "\n",
    "for airport in document.iterfind('airport'):\n",
    "    airport_name = airport.find('name').text\n",
    "    airport_cc = airport.attrib['country']\n",
    "    el_var = airport.find('elevation')\n",
    "    if (el_var is not None) and el_var.text is not None:\n",
    "        el_num = float(el_var.text)\n",
    "    \n",
    "    airports.append(airport_name)\n",
    "    airport_elevation.append(el_num)\n",
    "    airport_country_code.append(airport_cc)\n",
    "    \n",
    "airports_df = pd.DataFrame(columns = ['airport name', 'elevation', 'code'])\n",
    "airports_df = pd.DataFrame({\n",
    "        'airport name': airports,\n",
    "        'elevation': airport_elevation,\n",
    "        'code': airport_country_code        \n",
    "    })\n",
    "\n",
    "final_airports_df = country_code_df.merge(airports_df)\n",
    "\n",
    "#identifying highest elevation\n",
    "max_elevation = max(final_airports_df.elevation)\n",
    "final_airports_df = final_airports_df[['country', 'airport name', 'elevation']]\n",
    "final_airports_df[final_airports_df.elevation == max_elevation]"
   ]
  },
  {
   "cell_type": "code",
   "execution_count": null,
   "metadata": {
    "collapsed": true
   },
   "outputs": [],
   "source": []
  },
  {
   "cell_type": "code",
   "execution_count": null,
   "metadata": {
    "collapsed": true
   },
   "outputs": [],
   "source": []
  },
  {
   "cell_type": "code",
   "execution_count": null,
   "metadata": {
    "collapsed": true
   },
   "outputs": [],
   "source": []
  },
  {
   "cell_type": "code",
   "execution_count": null,
   "metadata": {
    "collapsed": true
   },
   "outputs": [],
   "source": []
  },
  {
   "cell_type": "code",
   "execution_count": null,
   "metadata": {
    "collapsed": true
   },
   "outputs": [],
   "source": []
  },
  {
   "cell_type": "code",
   "execution_count": null,
   "metadata": {
    "collapsed": true
   },
   "outputs": [],
   "source": []
  },
  {
   "cell_type": "code",
   "execution_count": null,
   "metadata": {
    "collapsed": true
   },
   "outputs": [],
   "source": []
  },
  {
   "cell_type": "code",
   "execution_count": null,
   "metadata": {
    "collapsed": true
   },
   "outputs": [],
   "source": []
  },
  {
   "cell_type": "code",
   "execution_count": null,
   "metadata": {
    "collapsed": true
   },
   "outputs": [],
   "source": []
  },
  {
   "cell_type": "code",
   "execution_count": null,
   "metadata": {
    "collapsed": true
   },
   "outputs": [],
   "source": []
  },
  {
   "cell_type": "code",
   "execution_count": null,
   "metadata": {
    "collapsed": true
   },
   "outputs": [],
   "source": []
  },
  {
   "cell_type": "code",
   "execution_count": null,
   "metadata": {
    "collapsed": true
   },
   "outputs": [],
   "source": []
  }
 ],
 "metadata": {
  "anaconda-cloud": {},
  "kernelspec": {
   "display_name": "Python [conda root]",
   "language": "python",
   "name": "conda-root-py"
  },
  "language_info": {
   "codemirror_mode": {
    "name": "ipython",
    "version": 3
   },
   "file_extension": ".py",
   "mimetype": "text/x-python",
   "name": "python",
   "nbconvert_exporter": "python",
   "pygments_lexer": "ipython3",
   "version": "3.5.2"
  }
 },
 "nbformat": 4,
 "nbformat_minor": 0
}
